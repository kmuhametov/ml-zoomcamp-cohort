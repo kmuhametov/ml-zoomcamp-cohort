{
 "cells": [
  {
   "cell_type": "code",
   "execution_count": 1,
   "id": "67f4b35a-dcc9-4ee8-8d83-cbc7bf9a0969",
   "metadata": {},
   "outputs": [],
   "source": [
    "import pickle"
   ]
  },
  {
   "cell_type": "code",
   "execution_count": 2,
   "id": "d5a9df37-4067-4d28-9887-43313d471096",
   "metadata": {},
   "outputs": [],
   "source": [
    "input_file = 'pipeline_v1.bin'"
   ]
  },
  {
   "cell_type": "code",
   "execution_count": 3,
   "id": "c9289438-0a10-494c-bab9-cd4089bde481",
   "metadata": {},
   "outputs": [
    {
     "name": "stderr",
     "output_type": "stream",
     "text": [
      "/home/codespace/.local/lib/python3.12/site-packages/sklearn/base.py:440: InconsistentVersionWarning: Trying to unpickle estimator DictVectorizer from version 1.6.1 when using version 1.7.0. This might lead to breaking code or invalid results. Use at your own risk. For more info please refer to:\n",
      "https://scikit-learn.org/stable/model_persistence.html#security-maintainability-limitations\n",
      "  warnings.warn(\n",
      "/home/codespace/.local/lib/python3.12/site-packages/sklearn/base.py:440: InconsistentVersionWarning: Trying to unpickle estimator LogisticRegression from version 1.6.1 when using version 1.7.0. This might lead to breaking code or invalid results. Use at your own risk. For more info please refer to:\n",
      "https://scikit-learn.org/stable/model_persistence.html#security-maintainability-limitations\n",
      "  warnings.warn(\n",
      "/home/codespace/.local/lib/python3.12/site-packages/sklearn/base.py:440: InconsistentVersionWarning: Trying to unpickle estimator Pipeline from version 1.6.1 when using version 1.7.0. This might lead to breaking code or invalid results. Use at your own risk. For more info please refer to:\n",
      "https://scikit-learn.org/stable/model_persistence.html#security-maintainability-limitations\n",
      "  warnings.warn(\n"
     ]
    }
   ],
   "source": [
    "with open(input_file, 'rb') as f_in: \n",
    "    dv, model = pickle.load(f_in)"
   ]
  },
  {
   "cell_type": "code",
   "execution_count": 5,
   "id": "42d95319-e714-41c4-ae7a-9e1bf932df43",
   "metadata": {},
   "outputs": [],
   "source": [
    "lead = {\n",
    "    \"lead_source\": \"paid_ads\",\n",
    "    \"number_of_courses_viewed\": 2,\n",
    "    \"annual_income\": 79276.0\n",
    "}"
   ]
  },
  {
   "cell_type": "code",
   "execution_count": 6,
   "id": "0c4a05ec-c1b8-4f7f-b70b-675a39b7f44e",
   "metadata": {},
   "outputs": [],
   "source": [
    "X = dv.transform([lead])"
   ]
  },
  {
   "cell_type": "code",
   "execution_count": 7,
   "id": "fcf632f1-0954-4e92-bfcc-9e28b142254e",
   "metadata": {},
   "outputs": [],
   "source": [
    "y_pred = model.predict_proba(X)[0, 1]"
   ]
  },
  {
   "cell_type": "code",
   "execution_count": 8,
   "id": "0dca000f-35f2-4d39-8950-0550de67c9fb",
   "metadata": {},
   "outputs": [
    {
     "name": "stdout",
     "output_type": "stream",
     "text": [
      "input: {'lead_source': 'paid_ads', 'number_of_courses_viewed': 2, 'annual_income': 79276.0}\n",
      "output: 0.5336072702798061\n"
     ]
    }
   ],
   "source": [
    "print('input:', lead)\n",
    "print('output:', y_pred)"
   ]
  },
  {
   "cell_type": "code",
   "execution_count": null,
   "id": "48e86504-1e99-4dd5-a1e6-7c6363b3902a",
   "metadata": {},
   "outputs": [],
   "source": []
  }
 ],
 "metadata": {
  "kernelspec": {
   "display_name": "Python 3 (ipykernel)",
   "language": "python",
   "name": "python3"
  },
  "language_info": {
   "codemirror_mode": {
    "name": "ipython",
    "version": 3
   },
   "file_extension": ".py",
   "mimetype": "text/x-python",
   "name": "python",
   "nbconvert_exporter": "python",
   "pygments_lexer": "ipython3",
   "version": "3.12.1"
  }
 },
 "nbformat": 4,
 "nbformat_minor": 5
}
